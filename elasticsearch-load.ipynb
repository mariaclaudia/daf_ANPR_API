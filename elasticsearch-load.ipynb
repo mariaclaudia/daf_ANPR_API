{
 "cells": [
  {
   "cell_type": "code",
   "execution_count": 1,
   "metadata": {},
   "outputs": [],
   "source": [
    "from elasticsearch import Elasticsearch, helpers\n",
    "import numpy as np\n",
    "import pandas as pd\n",
    "import json"
   ]
  },
  {
   "cell_type": "markdown",
   "metadata": {},
   "source": [
    "## Define the variables"
   ]
  },
  {
   "cell_type": "code",
   "execution_count": 5,
   "metadata": {},
   "outputs": [],
   "source": [
    "hosts = [\"127.0.0.1\"]\n",
    "file_path = './data/full.csv'\n",
    "file_path_json = './data/full.json'\n",
    "index_name = 'anpr-index'\n",
    "doc_type = 'comuni'"
   ]
  },
  {
   "cell_type": "markdown",
   "metadata": {},
   "source": [
    "### Transform the csv into a json"
   ]
  },
  {
   "cell_type": "code",
   "execution_count": 6,
   "metadata": {},
   "outputs": [],
   "source": [
    "df = pd.read_csv(file_path, sep=\";\" )\n",
    "df.to_json(file_path_json, orient='records')"
   ]
  },
  {
   "cell_type": "code",
   "execution_count": 7,
   "metadata": {},
   "outputs": [],
   "source": [
    "with open(file_path_json, 'r') as f:\n",
    "    data = json.load(f)"
   ]
  },
  {
   "cell_type": "code",
   "execution_count": 8,
   "metadata": {},
   "outputs": [
    {
     "data": {
      "text/plain": [
       "{'ID': 12560,\n",
       " 'DATAISTITUZIONE': '1866-11-19',\n",
       " 'DATACESSAZIONE': '13/11/1924',\n",
       " 'CODISTAT': 28001,\n",
       " 'CODCATASTALE': 'A001',\n",
       " 'DENOMINAZIONE_IT': 'ABANO',\n",
       " 'DENOMTRASLITTERATA': 'ABANO',\n",
       " 'ALTRADENOMINAZIONE': None,\n",
       " 'ALTRADENOMTRASLITTERATA': None,\n",
       " 'IDPROVINCIA': 28,\n",
       " 'IDREGIONE': 5,\n",
       " 'IDPREFETTURA': None,\n",
       " 'STATO': 'C',\n",
       " 'SIGLAPROVINCIA': 'PD',\n",
       " 'FONTE': None,\n",
       " 'DATAULTIMOAGG': '2016-06-17',\n",
       " 'COD_DENOM': 28500.0,\n",
       " 'ATTIVO': False,\n",
       " 'Codice Città Metropolitana': '-',\n",
       " 'Codice Ripartizione Geografica': 2.0,\n",
       " 'Ripartizione geografica': 'Nord-est',\n",
       " 'Denominazione regione': 'Veneto',\n",
       " 'Denominazione Città metropolitana': '-',\n",
       " 'Denominazione provincia': 'Padova',\n",
       " 'Flag Comune capoluogo di provincia': 0.0,\n",
       " 'Sigla automobilistica': 'PD',\n",
       " 'Codice Comune formato numerico': 28001.0,\n",
       " 'Codice Comune numerico con 110 province (dal 2010 al 2016)': 28001.0,\n",
       " 'Codice Comune numerico con 107 province (dal 2006 al 2009)': 28001.0,\n",
       " 'Codice Comune numerico con 103 province (dal 1995 al 2005)': 28001.0,\n",
       " 'Popolazione legale 2011 (09/10/2011)': '19.349',\n",
       " 'Codice NUTS1 2010': 'ITH',\n",
       " 'Codice NUTS2 2010 (3) ': 'ITH3',\n",
       " 'Codice NUTS3 2010': 'ITH36',\n",
       " 'Codice NUTS1 2006': 'ITD',\n",
       " 'Codice NUTS2 2006 (3)': 'ITD3',\n",
       " 'Codice NUTS3 2006': 'ITD36',\n",
       " 'CODISTAT_N': 28001,\n",
       " 'Zona altimetrica': 5,\n",
       " 'Altitudine del centro (metri)': 14,\n",
       " 'Comune litoraneo': 0,\n",
       " 'Comune Montano': 'NM',\n",
       " 'Superficie territoriale (kmq) al 09/10/2011': 21.4084,\n",
       " 'Grado di urbanizzazione': 2,\n",
       " 'PRO_COM': 28001,\n",
       " 'geometry': 'MULTIPOLYGON (((719356.5595000004 5029093.8527, 719653.9787999997 5028707.0427, 719816.2096999995 5028619.577299999, 720002.2072999999 5028489.5776, 720025.2061 5028437.578, 719990.2061 5028236.5791, 719950.2057999996 5028118.5795, 720019.2043000003 5027998.5797, 720563.1966000004 5027580.5811, 721867.1804 5026662.5836, 722077.1776999999 5026563.5844, 722157.1846000003 5026529.5908, 721958.9510000004 5026047.107899999, 721869.9516000003 5025830.6095, 721852.2017 5025787.6099, 721660.9528999999 5025389.6129, 721477.954 5025009.1159, 721136.7061999999 5024341.921, 720836.2081000004 5023725.6258, 720774.2083999999 5023569.627, 720604.4598000003 5023705.3761, 720429.2111999998 5024016.3739, 720438.2111999998 5024066.6235, 720442.9611999998 5024074.6234, 720471.9610000001 5024122.3731, 720464.2111 5024204.6224, 720379.2117999997 5024346.6214, 720293.2125000004 5024471.6206, 720190.2133999998 5024605.6196, 720159.2136000004 5024630.1194, 720109.2139999997 5024669.6192, 719405.4693999998 5024997.8671, 719202.221 5025085.616599999, 718609.2254999997 5025336.6151, 718067.2293999996 5025173.616599999, 717688.4822000004 5025049.117699999, 717427.2341 5024944.6186, 717404.2341999998 5024910.618899999, 717423.2340000002 5024847.6194, 717630.2322000004 5024268.3736, 717753.2311000004 5024043.6252, 717807.2307000002 5023994.625499999, 717812.9807000002 5023990.125499999, 717207.9852 5024126.6249, 716492.2407 5024424.623, 716282.2427000003 5025142.617799999, 716405.2418 5025134.617799999, 716384.2419999996 5025280.616699999, 716319.2427000003 5025615.6143, 716225.2434 5025659.614, 716139.2440999998 5025690.6138, 716063.2445999999 5025723.6136, 715999.2450999999 5025757.613399999, 715984.2452999996 5025784.6132, 715947.2457999997 5026204.610099999, 716007.2457999997 5027006.6041, 716016.2456999999 5027075.603499999, 716086.2454000004 5027396.6011, 716102.2452999996 5027427.6009, 716117.2451999998 5027455.6007, 716195.2445999999 5027499.600299999, 716216.7445 5027510.600199999, 716248.7443000004 5027527.100099999, 716263.2441999996 5027534.6, 716317.2438000003 5027592.5995, 716356.2434999999 5027660.598999999, 716469.2428000001 5027913.5971, 716738.7412999999 5028803.590299999, 716675.7418 5028875.3398, 716842.2407 5028955.5891, 717437.4073999999 5029232.8878, 718941.2252000002 5029191.5862, 719356.5595000004 5029093.8527)))',\n",
       " 'lat': 5026626.050471588,\n",
       " 'long': 718752.996922698}"
      ]
     },
     "execution_count": 8,
     "metadata": {},
     "output_type": "execute_result"
    }
   ],
   "source": [
    "data[0]"
   ]
  },
  {
   "cell_type": "markdown",
   "metadata": {},
   "source": [
    "## Open the connection to Elastic and index the documents"
   ]
  },
  {
   "cell_type": "code",
   "execution_count": 9,
   "metadata": {},
   "outputs": [],
   "source": [
    "es = Elasticsearch(hosts=hosts)"
   ]
  },
  {
   "cell_type": "code",
   "execution_count": 10,
   "metadata": {},
   "outputs": [],
   "source": [
    "if not es.indices.exists(index_name):\n",
    "    es.indices.create(index_name)"
   ]
  },
  {
   "cell_type": "code",
   "execution_count": 11,
   "metadata": {},
   "outputs": [
    {
     "data": {
      "text/plain": [
       "{'anpr-index': {'aliases': {},\n",
       "  'mappings': {},\n",
       "  'settings': {'index': {'creation_date': '1528714408780',\n",
       "    'number_of_shards': '5',\n",
       "    'number_of_replicas': '1',\n",
       "    'uuid': 'Ce-uRlwFR728P4w3G8h1yQ',\n",
       "    'version': {'created': '5060999'},\n",
       "    'provided_name': 'anpr-index'}}}}"
      ]
     },
     "execution_count": 11,
     "metadata": {},
     "output_type": "execute_result"
    }
   ],
   "source": [
    "es.indices.get(index_name)"
   ]
  },
  {
   "cell_type": "code",
   "execution_count": 12,
   "metadata": {},
   "outputs": [],
   "source": [
    "def create_req(id_doc, doc, op='index'):\n",
    "    return {\n",
    "        '_op_type': op,\n",
    "        '_index': index_name,\n",
    "        '_type': doc_type,\n",
    "        '_id': id_doc,\n",
    "        'doc': doc\n",
    "    }"
   ]
  },
  {
   "cell_type": "code",
   "execution_count": 13,
   "metadata": {},
   "outputs": [],
   "source": [
    "operations = (create_req(d['CODISTAT'], d) for d in data)"
   ]
  },
  {
   "cell_type": "code",
   "execution_count": 14,
   "metadata": {
    "scrolled": false
   },
   "outputs": [
    {
     "data": {
      "text/plain": [
       "(12113, [])"
      ]
     },
     "execution_count": 14,
     "metadata": {},
     "output_type": "execute_result"
    }
   ],
   "source": [
    "results = helpers.bulk(es, operations)\n",
    "results"
   ]
  }
 ],
 "metadata": {
  "kernelspec": {
   "display_name": "Python 3",
   "language": "python",
   "name": "python3"
  },
  "language_info": {
   "codemirror_mode": {
    "name": "ipython",
    "version": 3
   },
   "file_extension": ".py",
   "mimetype": "text/x-python",
   "name": "python",
   "nbconvert_exporter": "python",
   "pygments_lexer": "ipython3",
   "version": "3.6.5"
  }
 },
 "nbformat": 4,
 "nbformat_minor": 2
}
